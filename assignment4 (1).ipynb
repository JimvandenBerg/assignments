{
 "cells": [
  {
   "cell_type": "markdown",
   "metadata": {},
   "source": [
    "Before you turn this problem in, make sure everything runs as expected. First, **restart the kernel** (in the menubar, select Kernel$\\rightarrow$Restart) and then **run all cells** (in the menubar, select Cell$\\rightarrow$Run All).\n",
    "\n",
    "Make sure you fill in any place that says `YOUR CODE HERE` or \"YOUR ANSWER HERE\", as well as your name and collaborators below:"
   ]
  },
  {
   "cell_type": "code",
   "execution_count": 1,
   "metadata": {},
   "outputs": [],
   "source": [
    "NAME = \"Jim van den Berg, #2004018#\"\n",
    "COLLABORATORS = \"Mike Hagenaars #2013589#\""
   ]
  },
  {
   "cell_type": "markdown",
   "metadata": {},
   "source": [
    "---"
   ]
  },
  {
   "cell_type": "markdown",
   "metadata": {},
   "source": [
    "# Assignment 4\n",
    "\n",
    "This is the assignment for week 4. This was actually an exam in a previous year. We give the points to give you an idea of how such an exam works. However, we grade assignments only as pass or fail."
   ]
  },
  {
   "cell_type": "markdown",
   "metadata": {},
   "source": [
    "# Doing math with python"
   ]
  },
  {
   "cell_type": "markdown",
   "metadata": {},
   "source": [
    "Here we use python to solve equations `scipy`'s function `fsolve`."
   ]
  },
  {
   "cell_type": "markdown",
   "metadata": {},
   "source": [
    "# Import libraries"
   ]
  },
  {
   "cell_type": "markdown",
   "metadata": {},
   "source": [
    "First, we need to import some libraries:"
   ]
  },
  {
   "cell_type": "code",
   "execution_count": 2,
   "metadata": {},
   "outputs": [],
   "source": [
    "from scipy import optimize\n",
    "from numpy import arange\n",
    "import matplotlib.pyplot as plt\n",
    "%matplotlib inline"
   ]
  },
  {
   "cell_type": "markdown",
   "metadata": {},
   "source": [
    "We are going to analyze the function $x^2 - 8x +15$.\n",
    "\n",
    "-   **1. [0.5 point]:** Define the python function `objective` as $x^2 - 8x +15$."
   ]
  },
  {
   "cell_type": "code",
   "execution_count": 3,
   "metadata": {
    "deletable": false,
    "nbgrader": {
     "checksum": "b5a13ae930363087b4e85782b4cb43e9",
     "grade": false,
     "grade_id": "cell-53f008f1377b78dd",
     "locked": false,
     "schema_version": 1,
     "solution": true
    },
    "scrolled": true
   },
   "outputs": [],
   "source": [
    "def objective(x):\n",
    "    return x**2-8*x + 15"
   ]
  },
  {
   "cell_type": "markdown",
   "metadata": {},
   "source": [
    "We want to know what the zeros/roots are of this function; that is, the points $x$ where the function equals 0 (or, crosses the $x$-axis).\n",
    "\n",
    "-   **2. [1 point]:** Use `fsolve` from `scipy.optimize` to find **both** roots of this functions."
   ]
  },
  {
   "cell_type": "code",
   "execution_count": 4,
   "metadata": {
    "deletable": false,
    "nbgrader": {
     "checksum": "e35fd763eaeca551fbf92eca1b34de7a",
     "grade": false,
     "grade_id": "cell-d8981beefc03e4df",
     "locked": false,
     "schema_version": 1,
     "solution": true
    }
   },
   "outputs": [
    {
     "name": "stdout",
     "output_type": "stream",
     "text": [
      "[3. 5.]\n"
     ]
    }
   ],
   "source": [
    "print(optimize.fsolve(objective,[-8,8]))"
   ]
  },
  {
   "cell_type": "markdown",
   "metadata": {},
   "source": [
    "-   **3. [0.5 point]:** Find the points of intersection between the function `objective` above and the function $f(x)=1.5 x$."
   ]
  },
  {
   "cell_type": "code",
   "execution_count": 5,
   "metadata": {
    "deletable": false,
    "nbgrader": {
     "checksum": "69f5ece9fa84166921bfd81faacda21b",
     "grade": false,
     "grade_id": "cell-f96bbae5c5cc29f1",
     "locked": false,
     "schema_version": 1,
     "solution": true
    }
   },
   "outputs": [
    {
     "name": "stdout",
     "output_type": "stream",
     "text": [
      "[2.  7.5]\n"
     ]
    }
   ],
   "source": [
    "def f(x):\n",
    "    return 1.5*x\n",
    "\n",
    "def intersection(x):\n",
    "    return objective (x) - f(x)\n",
    "x_intersection = optimize.fsolve(intersection,[-10, 10])\n",
    "\n",
    "print (x_intersection)"
   ]
  },
  {
   "cell_type": "markdown",
   "metadata": {},
   "source": [
    "We want to plot the function and hence need to define a range over which to plot. Define the range in such a way that the graph below looks \"nice\".\n",
    "\n",
    "-   **4. [0.5 point]:** Generate a list (or \"vector\", if you wish) of $x$ values between 0 and 8 (including 8.0). Call this `range_x`."
   ]
  },
  {
   "cell_type": "code",
   "execution_count": 6,
   "metadata": {
    "deletable": false,
    "nbgrader": {
     "checksum": "9ebc278e11bbcb6b0c489ce992b424a6",
     "grade": false,
     "grade_id": "cell-43613aaa871ce2ba",
     "locked": false,
     "schema_version": 1,
     "solution": true
    }
   },
   "outputs": [],
   "source": [
    "range_x = arange(0,8.001,0.001)"
   ]
  },
  {
   "cell_type": "markdown",
   "metadata": {},
   "source": [
    "# Using `matplotlib`"
   ]
  },
  {
   "cell_type": "markdown",
   "metadata": {},
   "source": [
    "-   **5. [0.5 point]:** Above we import `matplotlib.pyplot`. Explain what the `plt`-part of this import does."
   ]
  },
  {
   "cell_type": "markdown",
   "metadata": {
    "deletable": false,
    "nbgrader": {
     "checksum": "d29c3dacb5ba91ccf4cf3c7add72a66c",
     "grade": true,
     "grade_id": "cell-b53d9867f47a02b3",
     "locked": false,
     "points": 0,
     "schema_version": 1,
     "solution": true
    }
   },
   "source": [
    "It enables you to plot functions."
   ]
  },
  {
   "cell_type": "markdown",
   "metadata": {},
   "source": [
    "-   **6. [1 point]:** Use `matplotlib` to plot both the function `objective` and the function $1.5 x$. Make sure that the horizontal axis is labeled $x$ and the vertical axis $y$."
   ]
  },
  {
   "cell_type": "code",
   "execution_count": 7,
   "metadata": {
    "deletable": false,
    "nbgrader": {
     "checksum": "d662591b3dde92090203751fd6452f62",
     "grade": false,
     "grade_id": "cell-4b9fcf110eead15d",
     "locked": false,
     "schema_version": 1,
     "solution": true
    }
   },
   "outputs": [
    {
     "data": {
      "image/png": "[encoded data removed]",
      "text/plain": [
       "<matplotlib.figure.Figure at 0x22cdf89d4a8>"
      ]
     },
     "metadata": {},
     "output_type": "display_data"
    }
   ],
   "source": [
    "plt.plot(range_x,[objective(x)for x in range_x])\n",
    "plt.plot(range_x,[f(x) for x in range_x])\n",
    "plt.show()"
   ]
  },
  {
   "cell_type": "code",
   "execution_count": null,
   "metadata": {},
   "outputs": [],
   "source": []
  }
 ],
 "metadata": {
  "kernelspec": {
   "display_name": "Python 3",
   "language": "python",
   "name": "python3"
  },
  "language_info": {
   "codemirror_mode": {
    "name": "ipython",
    "version": 3
   },
   "file_extension": ".py",
   "mimetype": "text/x-python",
   "name": "python",
   "nbconvert_exporter": "python",
   "pygments_lexer": "ipython3",
   "version": "3.6.4"
  },
  "org": null
 },
 "nbformat": 4,
 "nbformat_minor": 1
}
